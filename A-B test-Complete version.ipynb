{
 "cells": [
  {
   "cell_type": "markdown",
   "metadata": {},
   "source": [
    "# Hypothesis testing : A/B Test\n"
   ]
  },
  {
   "cell_type": "markdown",
   "metadata": {},
   "source": [
    "### Example \n",
    "(adapted from ``Data Science from Scratch'' by Joel Grus. I have also added the math)\n",
    "\n",
    "An advertiser has developed an energy drink targeted at data scientists. \n",
    "\n",
    "Advertisement A: \"taste great!\"\n",
    "Advertisiment B: \"less bias!\"\n",
    "\n",
    "Suppose \"taste great!\" gets 200 clicks out of 1,000 views and \"less bias!\" gets 180 clicks out of 1,000 views. \n",
    "\n",
    "----\n",
    "Think about the ad as a Bernoulli trial \n",
    "\n",
    "\\begin{equation*}\n",
    "p_A=P(\\mbox{ Someone click on ad } A)\n",
    "\\end{equation*}\n",
    "\n",
    "Let $N_A$ the numer of views for advertisement A and $n_A$ the number of clicks. \n",
    "$n_A= X_1 + X_2 + \\cdots + X_{N_A}$ follows a Binomial distribution $Bin(N_A, p_A).$  (the $X_i's$ are iid)\n",
    "\n",
    "If $N_A$ is large enough, by The Central Limit Theorem\n",
    "\n",
    "\\begin{equation*}\n",
    "\\dfrac{n_A}{N_A} \\sim N(\\mu_A, \\sigma_A^2)\n",
    "\\end{equation*}\n",
    "\n",
    "\n",
    "with $\\mu_A=p_A$ and $\\sigma_A=\\sqrt{\\frac{p_A(1-p_A)}{N_A}}$\n",
    "\n",
    "Similarly, \n",
    "\n",
    "\\begin{equation*}\n",
    "\\dfrac{n_B}{N_B} \\sim N\\left(p_B, \\sqrt{\\frac{p_B(1-p_B)}{N_B}} \\right)\n",
    "\\end{equation*}\n",
    "\n",
    "**Assumption:** $\\frac{n_A}{N_A}$ and   $\\frac{n_B}{N_B}$ are independent with normal distribution. \n",
    "\n",
    "Then, \n",
    "\n",
    "\\begin{equation*}\n",
    "\\frac{n_A}{N_A} - \\frac{n_B}{N_B}  \\sim N \\left(p_A-p_B, \\frac{p_A(1-p_A)}{N_A} + \\frac{p_B(1-p_B)}{N_B} \\right)\n",
    "\\end{equation*}\n",
    "\n",
    "\n",
    "**Note:** $\\sigma_A^2$ and $\\sigma_B^2$ are not given. Formally we would have to work with $S_A$ and $S_B$ (the sample variances), so  $\\frac{n_A}{N_A}$ and  $\\frac{n_B}{N_B}$ would follow a Student t distribution. However, since $N_A$ and $N_B$ are large enough, the distribution of $\\frac{n_A}{N_A}$ and  $\\frac{n_B}{N_B}$ can be approximated by normals. \n",
    "$\\sigma_A^2 \\approx S_A^2$ and $\\sigma_B^2 \\approx S_B^2$ for $N_A$ and $N_B$ large enough. \n",
    "\n",
    "\n",
    "\n",
    "\\begin{equation*}\n",
    "Z= \\dfrac{\\frac{n_A}{N_A} - \\frac{n_B}{N_B} -(p_A- p_B)}{\\sqrt{\\frac{p_A(1-p_A)}{N_A} + \\frac{p_B(1-p_B)}{N_B}}} \\sim N(0,1)\n",
    "\\end{equation*}\n",
    "\n",
    "\n",
    "\n",
    "\n"
   ]
  },
  {
   "cell_type": "markdown",
   "metadata": {},
   "source": [
    "### The elements of a statistical test\n",
    "\n",
    "\n",
    "Null Hypothesis:  \n",
    "\\begin{equation*}\n",
    " H_0=p_A-p_B=0\n",
    "\\end{equation*}\n",
    "\n",
    "\t    \n",
    "Alternative Hypothesis:\n",
    "\\begin{equation*}\n",
    "H_a=p_A-p_B \\neq 0\n",
    "\\end{equation*}\n",
    "\n",
    "Test statistic:\n",
    "\\begin{equation*}\n",
    "\\frac{n_A}{N_A} - \\frac{n_B}{N_B}\n",
    "\\end{equation*}\n",
    " \n",
    "\n"
   ]
  },
  {
   "cell_type": "markdown",
   "metadata": {},
   "source": [
    "Use $\\alpha=0.05$ significance level (0.05 decision rule)\n",
    "\n",
    "\\begin{equation*}\n",
    "P(\\mbox{ reject } H_0 | H_0 \\mbox{ is true })= P\\left(\\frac{n_A}{N_A} - \\frac{n_B}{N_B} \\neq 0 | p_A - p_B=0 \\right)= P(Z \\leq -z_{\\alpha/2} | p_A=p_B) + P(Z \\geq z_{\\alpha/2} | p_A=p_B)\n",
    "\\end{equation*}\n",
    "\n",
    "Recall that by symmetry $P(Z \\leq -z_{\\alpha/2})=0.025$ and $P(Z \\geq z_{\\alpha/2})=0.025.$\n",
    "From the table, \n",
    "\n",
    "\\begin{equation*}\n",
    "z_{\\alpha/2}= 1.96 \n",
    "\\end{equation*}\n",
    "\n",
    "(since $P(Z \\geq 1.96)=0.025$)\n",
    "\n"
   ]
  },
  {
   "cell_type": "markdown",
   "metadata": {},
   "source": [
    "Now we compute the **observed statistics**:\n",
    "\n",
    "\\begin{equation*}\n",
    "\\dfrac{\\bar{y}_A - \\bar{y}_B -(p_A- p_B)}{\\sqrt{\\frac{p_A(1-p_A)}{N_A} + \\frac{p_B(1-p_B)}{N_B}}}\n",
    "\\end{equation*}\n",
    "\n",
    "If $H_0$ is true:\n",
    "\n",
    "\\begin{equation*}\n",
    "\\dfrac{\\bar{y}_A - \\bar{y}_B -(p_A- p_B)}{\\sqrt{\\frac{p_A(1-p_A)}{N_A} + \\frac{p_B(1-p_B)}{N_B}}}=\n",
    "\\dfrac{\\bar{y}_A - \\bar{y}_B}{\\sqrt{\\frac{p_A(1-p_A)}{N_A} + \\frac{p_B(1-p_B)}{N_B}}}= \\dfrac{\\frac{200}{1000} - \\frac{180}{1000}}{0.0175385}=1.14\n",
    "\\end{equation*}\n",
    "\n",
    "\n",
    "1.14 is not in the rejection region, so we DO NOT reject $H_0$ \n",
    "\n",
    "Aside calulation for the denominator:\n",
    "\n",
    "$\\dfrac{p_A(1-p_A)}{N_A} + \\dfrac{p_B(1-p_B)}{N_B}= \\dfrac{\\frac{200}{1000}(1-\\frac{200}{1000})}{1000} + \\dfrac{\\frac{180}{1000}(1-\\frac{180}{1000})}{1000}= 0.0003076$\n",
    "\n",
    "**P-value**\n",
    "\n",
    "\\begin{equation*}\n",
    "\\mbox{ P- value }= P(Z \\geq 1.14) + P(Z \\leq -1.14)= 2  \\times 0.1271 = 0.2542\n",
    "\\end{equation*}\n",
    "(far enough from 0.05)\n",
    "\n",
    "Large enough that you cannot conclude there is much of a difference. \n",
    "\n",
    "**Exercise**\n",
    "\n",
    "What happens if \"less bias!\" only gets 150 clicks out of 1,000 views. \n",
    "\n",
    "\n",
    "\n"
   ]
  },
  {
   "cell_type": "code",
   "execution_count": 1,
   "metadata": {},
   "outputs": [],
   "source": [
    "import math\n",
    "from scipy.stats import norm   # Imports the normal distribution"
   ]
  },
  {
   "cell_type": "code",
   "execution_count": 2,
   "metadata": {},
   "outputs": [],
   "source": [
    "def estimated_parameter(N,n):\n",
    "    ybar=n/N\n",
    "    sigma=math.sqrt(ybar*(1-ybar)/N)\n",
    "    return ybar, sigma"
   ]
  },
  {
   "cell_type": "code",
   "execution_count": 3,
   "metadata": {},
   "outputs": [
    {
     "data": {
      "text/plain": [
       "(0.2, 0.01264911064067352)"
      ]
     },
     "execution_count": 3,
     "metadata": {},
     "output_type": "execute_result"
    }
   ],
   "source": [
    "estimated_parameter(1000,200)"
   ]
  },
  {
   "cell_type": "code",
   "execution_count": 4,
   "metadata": {},
   "outputs": [],
   "source": [
    "def a_b_test_statistic(N_A,n_A,N_B,n_B):\n",
    "    ybar_A, sA2= estimated_parameter(N_A,n_A)\n",
    "    ybar_B, sB2= estimated_parameter(N_B,n_B)\n",
    "    return (ybar_A-ybar_B)/math.sqrt(sA2**2 + sB2**2)"
   ]
  },
  {
   "cell_type": "code",
   "execution_count": 5,
   "metadata": {},
   "outputs": [
    {
     "name": "stdout",
     "output_type": "stream",
     "text": [
      "1.1403464899034472\n"
     ]
    }
   ],
   "source": [
    "z=a_b_test_statistic(1000,200,1000,180)\n",
    "print(z)"
   ]
  },
  {
   "cell_type": "code",
   "execution_count": 6,
   "metadata": {},
   "outputs": [
    {
     "data": {
      "text/plain": [
       "-1.9599639845400545"
      ]
     },
     "execution_count": 6,
     "metadata": {},
     "output_type": "execute_result"
    }
   ],
   "source": [
    "norm.ppf(0.025, loc=0, scale=1)     # z-score\n"
   ]
  },
  {
   "cell_type": "code",
   "execution_count": 23,
   "metadata": {},
   "outputs": [],
   "source": [
    "norm?\n"
   ]
  },
  {
   "cell_type": "code",
   "execution_count": 7,
   "metadata": {},
   "outputs": [
    {
     "data": {
      "text/plain": [
       "0.1271431505627983"
      ]
     },
     "execution_count": 7,
     "metadata": {},
     "output_type": "execute_result"
    }
   ],
   "source": [
    "norm.cdf(-1.14, loc=0, scale=1)"
   ]
  },
  {
   "cell_type": "code",
   "execution_count": 8,
   "metadata": {},
   "outputs": [
    {
     "data": {
      "text/plain": [
       "0.2542863011255966"
      ]
     },
     "execution_count": 8,
     "metadata": {},
     "output_type": "execute_result"
    }
   ],
   "source": [
    "pvalue=2*norm.cdf(-1.14, loc=0, scale=1)\n",
    "pvalue"
   ]
  },
  {
   "cell_type": "code",
   "execution_count": null,
   "metadata": {},
   "outputs": [],
   "source": []
  }
 ],
 "metadata": {
  "kernelspec": {
   "display_name": "Python 3",
   "language": "python",
   "name": "python3"
  },
  "language_info": {
   "codemirror_mode": {
    "name": "ipython",
    "version": 3
   },
   "file_extension": ".py",
   "mimetype": "text/x-python",
   "name": "python",
   "nbconvert_exporter": "python",
   "pygments_lexer": "ipython3",
   "version": "3.7.3"
  }
 },
 "nbformat": 4,
 "nbformat_minor": 2
}
