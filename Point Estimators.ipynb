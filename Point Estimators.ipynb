{
 "cells": [
  {
   "cell_type": "markdown",
   "metadata": {},
   "source": []
  },
  {
   "cell_type": "code",
   "execution_count": null,
   "metadata": {},
   "outputs": [],
   "source": []
  },
  {
   "cell_type": "markdown",
   "metadata": {},
   "source": [
    "## Point Estimators \n",
    "\n",
    "- how to estimate population-level parameters by using a sample of observations drawn from the population\n",
    "\n",
    "- if $Y_1,Y_2, \\ldots, Y_n$ is a sample from a population distribution described by $p_Y(y)$ or $f_Y(y)$, then the observations $Y_1.Y_2, \\ldots, Y_n$ contain valuable information about characteristics of the population distribution, for example, the population mean $\\mu=E(Y)$, the population variance $\\sigma^2=Var(Y),$ and so on.\n",
    "\n",
    "- the estimation question is relevant because that parameters associated with a population distribution (or distributions) are **usually unknown.**"
   ]
  },
  {
   "cell_type": "markdown",
   "metadata": {},
   "source": [
    "For example, suppose a physician observes a random sample of $n=20$ undergraduate students at a college in Texas and records\n",
    "\n",
    "\n",
    "$Y $= the number of colds within the last 10 months on each student.\n",
    "\n",
    "\n",
    "As a population-level model, he decides to use $Y=Poisson(\\lambda)$, where $\\lambda=E(Y)$, the mean of the population.\n",
    "\n",
    "Now, there are over 20,000 undergraduate students at this college. Therefore, the only way the physician can determine the value of $\\lambda$ is to observe all more-than 20,000  students. \n",
    "\n",
    "Because it is generally not possible to\n",
    "**sample the entire population** in real life evaluations (especially in larger populations which may number in the millions or billions), we turn to the problem of **parameter estimation**\n"
   ]
  },
  {
   "cell_type": "markdown",
   "metadata": {},
   "source": [
    "### Parameter Estimation\n",
    "\n",
    "Suppose $Y_1,Y_2, \\ldots, Y_n$ is an iid sample from a population distribution described by $p_Y(y)$ or $f_Y(y)$, and let $\\theta \\in \\mathbb{R}$ denote a population-level parameter that is unknown.  \n",
    "\n",
    "- In the previous example, we could write $Y\\sim Poisson(\\theta)$, where $\\theta=E(Y).$\n",
    "\n",
    "\n",
    "- Assumption: the population level parameter $\\theta$ is unknown but also fixed. \n",
    "\n",
    "\n",
    "\n",
    "A point estimator of $\\theta$ is any statistic; i.e., $\\hat{\\theta}=T(Y_1,Y_2, \\ldots, Y_n)$, that estimates $\\theta$. \n",
    "\n",
    "Because a point estimator $\\hat{\\theta}$ is a statistic, it is random and has its own (sampling) distribution. \n",
    "\n",
    "In the Texas college example, a point estimator of $\\theta$ based on the $n=20$ students is $\\bar{Y}=\\frac{1}{20}\\sum_{i=1}^{20} Y_i,$ the sample mean."
   ]
  },
  {
   "cell_type": "markdown",
   "metadata": {},
   "source": [
    "### Bias\n",
    "\n",
    "Suppose $\\hat{\\theta}=T(Y_1,Y_2, \\ldots, Y_n)$ is a point estimator for the population-level parameter $\\theta$\t\n",
    "\n",
    "\n",
    "- we call $\\hat{\\theta}$ and unbiased estimator of $\\theta$ if $E(\\hat{\\theta})=\\theta$\n",
    "\n",
    "\t\n",
    "- if $E(\\hat{\\theta})\\neq \\theta$ we say that $\\hat{\\theta}$ is biased\n",
    "\n",
    "\t\n",
    "- the **bias** of a point estimator $\\hat{\\theta}$ is \n",
    "\n",
    "    \n",
    "\\begin{equation*}\n",
    "B(\\hat{\\theta})\t= E(\\hat{\\theta})-\\theta \n",
    "\\end{equation*}\n",
    "\n",
    "- an **unbiased estimator is perfectly accurate**"
   ]
  },
  {
   "cell_type": "markdown",
   "metadata": {},
   "source": [
    " Let $Y_1, Y_2, \\ldots, Y_n$ be a random sample with $E(Y_i)=\\mu$ and $Var(Y_i)=\\sigma^2$. It can be shown that\n",
    "    \n",
    " \\begin{equation*}\n",
    " {S'}^2=\\frac{1}{n}\\sum_{i=1}^n {(Y_i -\\bar{y})}^2\n",
    " \\end{equation*}\n",
    "  \n",
    "is a biased estimator of $\\sigma^2$ and that  \n",
    "  \n",
    " \\begin{equation*}\n",
    " {S}^2=\\frac{1}{n-1}\\sum_{i=1}^n {(Y_i -\\bar{y})}^2\n",
    " \\end{equation*} \n",
    " \n",
    "is an unbiased estimator of $\\sigma^2$\n",
    "  \n",
    "Let's check this experimentally..."
   ]
  },
  {
   "cell_type": "code",
   "execution_count": 1,
   "metadata": {},
   "outputs": [],
   "source": [
    "import numpy as np"
   ]
  },
  {
   "cell_type": "code",
   "execution_count": 2,
   "metadata": {},
   "outputs": [],
   "source": [
    "# parameters for Binomial Trials\n",
    "p =.7\n",
    "n_trials = 100\n",
    "real_var = n_trials * p * (1-p)"
   ]
  },
  {
   "cell_type": "code",
   "execution_count": 3,
   "metadata": {},
   "outputs": [],
   "source": [
    "# Simulates n samples with n_trails of a Binomial Distribution of probability p\n",
    "def simulate(n_trials = 100, p=.7, n=10):\n",
    "    return np.random.binomial(n_trials, p,n)"
   ]
  },
  {
   "cell_type": "code",
   "execution_count": 4,
   "metadata": {},
   "outputs": [
    {
     "data": {
      "text/plain": [
       "array([75, 79, 71, 67, 72, 68, 71, 75, 74, 70])"
      ]
     },
     "execution_count": 4,
     "metadata": {},
     "output_type": "execute_result"
    }
   ],
   "source": [
    "simulate()"
   ]
  },
  {
   "cell_type": "code",
   "execution_count": 5,
   "metadata": {},
   "outputs": [
    {
     "name": "stdout",
     "output_type": "stream",
     "text": [
      "For biased estimator:\n",
      "Average of the estimator: 20.6581243055556\n",
      "Percentage of times it overestimates: 44.06 %\n",
      "\n",
      "For unbiased estimator:\n",
      "Average of the estimator: 21.008262005649765\n",
      "Percentage of times it overestimates: 47.22 %\n",
      "\n",
      "real variance: 21.000000000000004\n"
     ]
    }
   ],
   "source": [
    "num_samples = 10000\n",
    "sum_biased = 0\n",
    "biased_overestimates = 0 # numbers of times it overestimates\n",
    "sum_unbiased = 0\n",
    "unbiased_overestimates = 0 # numbers of times it overestimaates\n",
    "for k in range(num_samples):\n",
    "    sample = simulate(n=60)\n",
    "    sample_var_biased = sample.var()\n",
    "    sample_var_unbiased = sample.var(ddof=1)\n",
    "    sum_biased += sample_var_biased\n",
    "    if sample_var_biased > real_var:\n",
    "        biased_overestimates += 1\n",
    "    sum_unbiased += sample_var_unbiased\n",
    "    if sample_var_unbiased > real_var:\n",
    "        unbiased_overestimates += 1\n",
    "\n",
    "print(\"For biased estimator:\")\n",
    "print(\"Average of the estimator:\", sum_biased/num_samples)\n",
    "print(\"Percentage of times it overestimates:\", biased_overestimates/num_samples*100,\"%\")\n",
    "print()\n",
    "print(\"For unbiased estimator:\")\n",
    "print(\"Average of the estimator:\", sum_unbiased/num_samples)\n",
    "print(\"Percentage of times it overestimates:\", unbiased_overestimates/num_samples*100,\"%\")\n",
    "print()\n",
    "print(\"real variance:\", real_var)"
   ]
  },
  {
   "cell_type": "code",
   "execution_count": null,
   "metadata": {},
   "outputs": [],
   "source": [
    "help(np.var)"
   ]
  },
  {
   "cell_type": "markdown",
   "metadata": {},
   "source": [
    "Good for Python basics:\n",
    "<img src=\"Book_cover_DS_scratch.png\" alt=\"Drawing\" style=\"width: 200px;\"/>\n",
    "\n",
    "Github: \n",
    "https://github.com/joelgrus/data-science-from-scratch   "
   ]
  },
  {
   "cell_type": "code",
   "execution_count": null,
   "metadata": {},
   "outputs": [],
   "source": []
  }
 ],
 "metadata": {
  "kernelspec": {
   "display_name": "Python 3",
   "language": "python",
   "name": "python3"
  },
  "language_info": {
   "codemirror_mode": {
    "name": "ipython",
    "version": 3
   },
   "file_extension": ".py",
   "mimetype": "text/x-python",
   "name": "python",
   "nbconvert_exporter": "python",
   "pygments_lexer": "ipython3",
   "version": "3.7.3"
  }
 },
 "nbformat": 4,
 "nbformat_minor": 2
}
