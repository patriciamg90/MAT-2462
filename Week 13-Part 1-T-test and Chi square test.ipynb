{
 "cells": [
  {
   "cell_type": "markdown",
   "metadata": {},
   "source": [
    "### T-test and Chi square test"
   ]
  },
  {
   "cell_type": "markdown",
   "metadata": {},
   "source": [
    "**Example**\n",
    "\n",
    "It is assumed that the mean systolic blood pressure is $\\mu=120$  mm Hg. In the Honolulu Heart Study, a sample of \n",
    "$n = 100$ people had an average systolic blood pressure of 130.1 mm Hg with a standard deviation of 21.21 mm Hg. Is the group significantly different (with respect to systolic blood pressure!) \n",
    "from the regular population?"
   ]
  },
  {
   "cell_type": "markdown",
   "metadata": {},
   "source": [
    "\\begin{equation*}\n",
    "\\begin{cases}\n",
    "H_0: & \\mu=120 \\\\\n",
    "H_1: & \\mu \\neq 120    \n",
    "\\end{cases}\n",
    "\\end{equation*}\n",
    "\n",
    "If the data is normally distributed then \n",
    "\n",
    "\\begin{equation*}\n",
    "T=\\dfrac{\\bar{X}- \\mu}{S/\\sqrt{n}} \\sim t(n-1)\n",
    "\\end{equation*}\n",
    "\n",
    "(a t-distribution with $n$ degrees of freedome.)\n",
    "\n",
    "It makes sense to use the t-statististics \n",
    "\n",
    "\\begin{equation*}\n",
    "T=\\dfrac{\\bar{X}- \\mu}{S/\\sqrt{n}}\n",
    "\\end{equation*}\n",
    "\n",
    "We find the value of the *observed test statistics*:\n",
    "\n",
    "\n",
    "\n",
    "\n"
   ]
  },
  {
   "cell_type": "markdown",
   "metadata": {},
   "source": [
    "Recall t-student (see last class jupyter notebook) and also\n",
    "https://docs.scipy.org/doc/scipy/reference/generated/scipy.stats.t.html (you can also find the gamma function defintion there.)"
   ]
  },
  {
   "cell_type": "markdown",
   "metadata": {},
   "source": []
  },
  {
   "cell_type": "code",
   "execution_count": 9,
   "metadata": {},
   "outputs": [
    {
     "data": {
      "text/plain": [
       "-1.9842169515086832"
      ]
     },
     "execution_count": 9,
     "metadata": {},
     "output_type": "execute_result"
    }
   ],
   "source": [
    "import math \n",
    "from scipy.stats import t\n",
    "from scipy.stats import chi2\n",
    "\n",
    "critical=t.ppf(0.025,99)\n",
    "critical"
   ]
  },
  {
   "cell_type": "markdown",
   "metadata": {},
   "source": [
    "$\\alpha=0.05$ significance level\n",
    "\n",
    "Rejection region: RR=$[-\\infty, t_{-\\alpha/2}] \\cup [t_{\\alpha/2}, \\infty]=[-\\infty, -1.9842] \\cup [1.9842, \\infty]$\n"
   ]
  },
  {
   "cell_type": "markdown",
   "metadata": {},
   "source": [
    "Observed statitics:"
   ]
  },
  {
   "cell_type": "code",
   "execution_count": 3,
   "metadata": {},
   "outputs": [
    {
     "data": {
      "text/plain": [
       "4.761904761904759"
      ]
     },
     "execution_count": 3,
     "metadata": {},
     "output_type": "execute_result"
    }
   ],
   "source": [
    "t0=(130.1-120)*math.sqrt(100)/21.21\n",
    "t0"
   ]
  },
  {
   "cell_type": "markdown",
   "metadata": {},
   "source": [
    "$4.7619> t_{-\\alpha/2}$ so the observed statistic falls in RR."
   ]
  },
  {
   "cell_type": "markdown",
   "metadata": {},
   "source": [
    "P-Value:"
   ]
  },
  {
   "cell_type": "code",
   "execution_count": 4,
   "metadata": {},
   "outputs": [
    {
     "data": {
      "text/plain": [
       "6.562701817208617e-06"
      ]
     },
     "execution_count": 4,
     "metadata": {},
     "output_type": "execute_result"
    }
   ],
   "source": [
    "pval=2*t.cdf(-t0,99)\n",
    "pval"
   ]
  },
  {
   "cell_type": "markdown",
   "metadata": {},
   "source": [
    "We reject the null hypothesis $H_0$ since p-value is very small and less than $\\alpha=0.05.$"
   ]
  },
  {
   "cell_type": "markdown",
   "metadata": {},
   "source": [
    "## Chi-square test\n",
    "\n",
    "Assuming that the data are normally distributed, you use the test for the variance or standard deviation to test whether the population variance or standard deviation is equal to a specified value.\n"
   ]
  },
  {
   "cell_type": "markdown",
   "metadata": {},
   "source": [
    "*Test for the variance or standard deviation*\n",
    "\n",
    "\n",
    "The test statistic \n",
    "\n",
    "\\begin{equation*}\n",
    "X^2=\\dfrac{(n-1)S^2}{\\sigma^2}\n",
    "\\end{equation*}\n",
    "\n",
    "The test statistics $X^2$ follows a chi-square distribution with $n-1$ degrees of freedom.\n",
    "\n",
    "\n"
   ]
  },
  {
   "cell_type": "markdown",
   "metadata": {},
   "source": [
    "About the Chi Square: \n",
    "\n",
    "https://docs.scipy.org/doc/scipy/reference/generated/scipy.stats.chi2.html"
   ]
  },
  {
   "cell_type": "markdown",
   "metadata": {},
   "source": [
    "**Example**\n",
    "\n",
    "A manufacturer of candy must monitor the temperature at which the candies are baked. Too much variation will cause \n",
    "inconsistency in the taste of the candy. Past records show that the standard deviation of the temperature has been $1.2^{\\circ}$F.\n",
    "\n",
    "A random sample of 30 batches of candy is selected, and the sample standard deviation of the temperature is $2.1^{\\circ}$F\n",
    "\n",
    " - a. At the 0.05 level of significance, is there evidence that the population standard deviation has increased above \n",
    " - b. What assumption do you need to make in order to perform this test? \n",
    " - c. Compute the p-value in (a) and interpret its meaning. \n",
    " \n"
   ]
  },
  {
   "cell_type": "markdown",
   "metadata": {},
   "source": [
    "\\begin{equation*}\n",
    "\\begin{cases}\n",
    "H_0: & \\sigma^2= 1.44  \\quad \\mbox{ (that is }\\sigma=1.2^\\circ \\, F)\\\\\n",
    "H_1: & \\sigma^2 > 1.44 \\quad \\mbox{ (that is }\\sigma>1.2^\\circ\\, F) \\\\\n",
    "\\end{cases}\n",
    "\\end{equation*}\n"
   ]
  },
  {
   "cell_type": "markdown",
   "metadata": {},
   "source": []
  },
  {
   "cell_type": "markdown",
   "metadata": {},
   "source": [
    "if you select a level of significance of $\\alpha=0.05$, the upper critical values are\n"
   ]
  },
  {
   "cell_type": "code",
   "execution_count": 5,
   "metadata": {},
   "outputs": [
    {
     "data": {
      "text/plain": [
       "42.55696780429269"
      ]
     },
     "execution_count": 5,
     "metadata": {},
     "output_type": "execute_result"
    }
   ],
   "source": [
    "chi2score=chi2.ppf(0.95, 29)\n",
    "chi2score"
   ]
  },
  {
   "cell_type": "code",
   "execution_count": 6,
   "metadata": {},
   "outputs": [
    {
     "data": {
      "text/plain": [
       "88.8125"
      ]
     },
     "execution_count": 6,
     "metadata": {},
     "output_type": "execute_result"
    }
   ],
   "source": [
    "statistic=29*2.1**2/1.44\n",
    "statistic"
   ]
  },
  {
   "cell_type": "markdown",
   "metadata": {},
   "source": [
    "$X^2$=88.8125;  $X^2> \\chi^2_{0.95}$"
   ]
  },
  {
   "cell_type": "code",
   "execution_count": 7,
   "metadata": {},
   "outputs": [
    {
     "data": {
      "text/plain": [
       "5.5389502984226624e-08"
      ]
     },
     "execution_count": 7,
     "metadata": {},
     "output_type": "execute_result"
    }
   ],
   "source": [
    "pvalue=1-chi2.cdf(88.8125,29)\n",
    "pvalue"
   ]
  },
  {
   "cell_type": "markdown",
   "metadata": {},
   "source": [
    "The p-value is less than $\\alpha=0.05$. We reject $H_0$!!!"
   ]
  },
  {
   "cell_type": "markdown",
   "metadata": {},
   "source": [
    "\n"
   ]
  },
  {
   "cell_type": "markdown",
   "metadata": {},
   "source": [
    "Obervation: Recall\n",
    "Helpful for your final conclusions:\n",
    "\n",
    "- If the p-value is less than the prescibed $\\alpha$, we reject $H_0$.\n",
    "- If p-value > prescribed $\\alpha$, we fail to reject $H_0.$\n"
   ]
  },
  {
   "cell_type": "markdown",
   "metadata": {},
   "source": []
  }
 ],
 "metadata": {
  "kernelspec": {
   "display_name": "Python 3",
   "language": "python",
   "name": "python3"
  },
  "language_info": {
   "codemirror_mode": {
    "name": "ipython",
    "version": 3
   },
   "file_extension": ".py",
   "mimetype": "text/x-python",
   "name": "python",
   "nbconvert_exporter": "python",
   "pygments_lexer": "ipython3",
   "version": "3.7.3"
  }
 },
 "nbformat": 4,
 "nbformat_minor": 2
}
