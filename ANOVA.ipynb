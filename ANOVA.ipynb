{
 "cells": [
  {
   "cell_type": "markdown",
   "metadata": {},
   "source": [
    "## ANOVA\n",
    "\n",
    "### One way analysis of variance\n",
    "\n",
    "\n",
    "**Motivation**\n",
    "The purpose of an experiment is to investigate differences between or among two or more treatments. In a statistical framework, we do this by comparing the population means of the responses to each treatment.\n",
    "\n",
    "\n",
    "\n",
    "**CASE STUDY**\n",
    "\n",
    "**Smoking habits effect on athletes**\n",
    "Generations of athletes have been cautioned that cigarette smoking retards performance. One measure of the truth of the truth of that warning is is the effect of smoking on heart rate. In one study examining that impact, six of non-smokers, light smokers, moderate smokers, and heavy smokers undertook sustained physical exercise. Their heart rates were measured after resting for three minutes. \n",
    "\n",
    "![alt text](my_beamer_table.png \"heart rate table\")\n",
    "\n",
    "\n",
    "\n",
    "[Hassard, Thomas H. {\\it Understanding Biostatistics}. St. Louis: Mosby Year Book, 1991.]\n"
   ]
  },
  {
   "cell_type": "markdown",
   "metadata": {},
   "source": [
    "\\begin{equation}\n",
    "\\sum_{j=1}^{n_i} Y_{ij}\n",
    "\\end{equation}\n"
   ]
  },
  {
   "cell_type": "markdown",
   "metadata": {},
   "source": [
    "<div class=\"alert-warning\">\n",
    "\n",
    "Let  $\\mu_1, \\mu_2 , \\mu_3$ and  $\\mu_4$ denote the true average heart rates for four groups of smokers, can we reject $H_0 : \\mu_1= \\mu_2 = \\mu_3 = \\mu_4$?\n",
    "\t\n",
    "Hypothesis test:\n",
    "\n",
    "\\begin{equation*} \n",
    "H_0 : \\mu_1= \\mu_2 = \\mu_3 = \\mu_4\n",
    "\\end{equation*}\n",
    "\n",
    "versus\n",
    "\\begin{equation*}\n",
    "H_1 : \\mbox{ the population means }  \\mu_i \\mbox{ are not all equal.}\n",
    "\\end{equation*}\n",
    "\n",
    "We want a statistical inference procedure that allows us to test this type\n",
    "of hypothesis in a one-way classification. \n",
    "\n",
    "</div>\n"
   ]
  },
  {
   "cell_type": "markdown",
   "metadata": {},
   "source": [
    "**F test**\n",
    "\n",
    "Let $t$ denote the number of treatments (populations) to be compared and \n",
    "\n",
    "$Y_{ij}$= response on the jth individual in the ith treatment group\n",
    "\n",
    "for $i=1, \\dots, t$  and $j=1, \\ldots, n_i.$ \n",
    "\n",
    "$n_i$ : the number of observations for the ith treatment (population)\n",
    "\n",
    " Let $N=n_1 + n_2 + \\cdots + n_t$ the total number of individuals measured. \n",
    " \n",
    "\n",
    "Define the statistics:\n",
    "\n",
    "\\begin{equation*}\n",
    "\\bar{Y}_{i+}=\\frac{1}{n_i}\\sum_{j=1}^{n_i} Y_{ij}\n",
    "\\end{equation*}\t\n",
    "\n",
    "\\begin{equation*}\n",
    "S_i^2= \\frac{1}{n_i-1} \\sum_{j=1}^{n_i} {(Y_{ij}-\\bar{Y}_{i+})}^2\n",
    "\\end{equation*}\n",
    "\n",
    "\\begin{equation*}\n",
    "\\bar{Y}_{++}=\\frac{1}{N}\\sum_{i=1}^t \\sum_{j=1}^{n_i} Y_{ij}\n",
    "\\end{equation*}\n",
    "\t\n",
    "\n",
    "\t \n",
    "\n",
    "The statistics $\\bar{Y_{i+}}$ and $S_i^2$ denote the sample mean and the sample variance, respectively, of the ith sample. The overall $\\bar{Y_{++}}$ sample mean is the sample mean of\n",
    "all the data (aggregated across all $t$ treatment groups)."
   ]
  },
  {
   "cell_type": "markdown",
   "metadata": {},
   "source": [
    "<div class=\"alert-warning\">\n",
    "\n",
    "\n",
    "We want a statistical inference procedure that allows us to test this type\n",
    "of hypothesis:\t\n",
    "\\begin{equation*} \n",
    "H_0 : \\mu_1= \\mu_2 = \\cdots = \\mu_t\n",
    "\\end{equation*}\n",
    "\n",
    "versus\n",
    "\\begin{equation*}\n",
    "H_1 : \\mbox{ the population means }  \\mu_i \\mbox{ are not all equal.}\n",
    "\\end{equation*}\n",
    "\n",
    "\n",
    "- The null hypothesis $H_0$ says that there is ``no treatment difference'', that is, all $t$ population means are the same.\n",
    "\n",
    "- The alternative hypothesis $H_1$ says that a difference among the $t$  population means exists ``somewhere.'' It does not specify how the means are different.\n",
    "\n",
    "- When performing a hypothesis test, we basically decide which hypothesis is more supported by the data.\n",
    "\n",
    "</div>"
   ]
  },
  {
   "cell_type": "markdown",
   "metadata": {},
   "source": [
    "Suppose that we have $t$ independent random samples:\\\\\n",
    "\n",
    "\n",
    "Sample 1:  $Y_{11}, Y_{12},\\dots, Y_{1n_1} \\sim N(\\mu_1,\\sigma^2)$\n",
    "\n",
    "Sample 2:  $Y_{21}, Y_{22},\\dots, Y_{2n_2} \\sim N(\\mu_2,\\sigma^2)$\n",
    "\n",
    "$\\cdots $  $\\cdots$                          $\\cdots$             \n",
    "\n",
    "Sample $t$:  $Y_{t1}, Y_{t2},\\dots, Y_{tn_t} \\sim N(\\mu_t,\\sigma^2)$\n",
    "\n",
    "\n",
    "\n",
    "\n",
    "Assumptions: Note the statistical assumptions we are making:\n",
    "\n",
    "1. the $t$ random samples are independent\n",
    "2. the $t$ population distributions {\\bf are normal}\n",
    "3.  the $t$ population distributions have the same variance $\\sigma^2.$\n",
    "\n"
   ]
  },
  {
   "cell_type": "markdown",
   "metadata": {},
   "source": [
    "**Within Estimator**\n",
    "<div class=\"alert-danger\">\n",
    "Calculate the residual sum of squares:\n",
    "    \n",
    "\\begin{equation*}\n",
    "SS_{res} = \\displaystyle \\sum_{i=1}^t \\sum_{j=1}^{n_i} {(Y_{ij}- \\bar{Y}_{i+})}^2\n",
    "\\end{equation*}\n",
    "\n",
    "\n",
    "- The sample variance $S_i^2$  estimates the population parameter $\\sigma^2$ (which assumed to be common across all $t$ populations) from within the ith sample.\n",
    "\n",
    "- The weighted average of these estimates\n",
    "$MS_{res} = \\dfrac{SS_{res}}{N-t}$ is called the **residual mean squares.**\n",
    "</div>"
   ]
  },
  {
   "cell_type": "markdown",
   "metadata": {},
   "source": [
    "**Across Estimator**\n",
    "\n",
    "<div class=\"alert-danger\">\n",
    "We assume a common sample size $n_1 = n_2 =\\cdots = n_t = n$ to simplify notation (i.e., a balanced design).\n",
    "\n",
    "**$\\bar{Y}_{1+}, \\bar{Y}_{2+}, \\ldots,\\bar{Y}_{t+}$ as a random sample from the population distribution  $N(\\mu, \\frac{\\sigma^2}{n})$.**\n",
    "\n",
    "\\begin{equation*}\n",
    "SS_{trt}= \\sum_{i=1}^t n{(\\bar{Y}_{i+} - \\bar{Y}_{++})}^2\n",
    "\\end{equation*}\n",
    "\n",
    "\n",
    "\\begin{equation*}\n",
    "MS_{trt}=\\frac{1}{t-1}SS_{trt}\n",
    "\\end{equation*}\n",
    "\n",
    "We call:\n",
    "\n",
    "\n",
    "$SS_{trt}$ = ``treatment sums of squares''\n",
    "\n",
    "\n",
    "$MS_{trt}$ = ``treatment mean squares.''\n",
    "\n",
    "</div>\n",
    "\n"
   ]
  },
  {
   "cell_type": "markdown",
   "metadata": {},
   "source": [
    "**THEOREM**\n",
    "\n",
    "\n",
    "<div class=\"alert-info\">\n",
    "\n",
    "Suppose that each observation in a set of $t$ random samples is normally distributed withe the same variance $\\sigma^2$. Let $\\mu_1, \\mu_2, \\ldots, \\mu_t$ be the true means associated with the $t$ samples. Then \n",
    "\n",
    "- If $H_0: \\mu_1= \\mu_2= \\ldots= \\mu_t$ is true\n",
    "\t\n",
    "\\begin{equation*}\n",
    "\\tilde{F}=\\dfrac{SS_{trt}/(t-1)}{SS_{res}/(N-t)}\n",
    "\\end{equation*}\t\n",
    "\n",
    "has and $ F$ distribution with $t-1$ and $N-t$ degrees of freedom. \n",
    "\n",
    "- At the $\\alpha$ level of significance $H_0: \\mu_1= \\mu_2 =  \\ldots =\\mu_t$ should be rejected if $\\tilde{F} \\geq F_{1-\\alpha, t-1, N-t}$\n",
    "\n",
    "</div>"
   ]
  },
  {
   "cell_type": "markdown",
   "metadata": {},
   "source": [
    "**The F Distribution**\n",
    "\n",
    "<div class=\"alert-success\">\n",
    "    \n",
    "The $F$ pdf has the following characteristics:\n",
    "    \n",
    "- continuous, skewed right, and always positive\n",
    "\n",
    "\n",
    "- indexed by two degree of freedom parameters $\\nu_1$ and $\\nu_2$; these are usually integers and are related to sample sizes\n",
    "\n",
    "\n",
    "- the mean of an $F$  distribution is close to 1 (regardless of the values of $\\nu_1$ and $\\nu_2$) \n",
    "\n",
    "\n",
    "- Python computes probabilities from the $F$ distribution.\n",
    "\n",
    "</div>\n"
   ]
  },
  {
   "cell_type": "markdown",
   "metadata": {},
   "source": [
    "**ANOVA Tables**\n",
    "\n",
    "![alt text](my_beamer_ANOVA_table.png \"ANOVA Table\")\n",
    "\n",
    "\n",
    "\n",
    "\n",
    "\t\n",
    "- $SS_{total}$ measures how observations vary about the overall mean, without regard to treatment groups; that is, $SS_{total}$ measures the total variation in all the data.\n",
    "\n",
    "- $SS_{total}$ can be partitioned into two components:\n",
    "    - $SS_{trt}$ measures how much of the total variation is due to the treatment groups.\n",
    "    - $SS_{res}$ measures what is ``left over,'' which we attribute to inherent variation among the individuals.\n",
    "\n",
    "\n",
    "- Degrees of freedom (df) add down. \n",
    "\n",
    "- Mean squares (MS) are formed by dividing sums of squares by the corresponding degrees of freedom.\n",
    "\n",
    "- The ratio of the mean squares (MS) gives the $F$ statistic.\n",
    "\n",
    "\n"
   ]
  },
  {
   "cell_type": "markdown",
   "metadata": {},
   "source": [
    "*References*\n",
    "\n",
    "- Joshua M. Tebbs, *Statistical Inference course notes*, 2018. Department of Statistics. University of South Carolina\n",
    "- *Mathematical Statistics and its applications* by Larsen and Marx"
   ]
  },
  {
   "cell_type": "markdown",
   "metadata": {},
   "source": [
    "**Pingouin**: open source statistical package\n",
    "\n",
    "https://pingouin-stats.org/\n",
    "    \n",
    "https://pingouin-stats.org/generated/pingouin.anova.html#pingouin.anova    "
   ]
  },
  {
   "cell_type": "code",
   "execution_count": 1,
   "metadata": {},
   "outputs": [],
   "source": [
    "import numpy as np\n",
    "import matplotlib.pyplot as plt\n",
    "from scipy.stats import f_oneway as ANOVA\n",
    "from scipy.stats import f as F"
   ]
  },
  {
   "cell_type": "code",
   "execution_count": 2,
   "metadata": {},
   "outputs": [],
   "source": [
    "non_smokers = [69, 52, 71, 58, 59, 65]\n",
    "light_smokers = [55,60,78,58,62,66]\n",
    "moder_smokers = [66,81,70,77,57,79]\n",
    "heavy_smokers = [91,72,81,67,95,84]\n"
   ]
  },
  {
   "cell_type": "code",
   "execution_count": 3,
   "metadata": {},
   "outputs": [
    {
     "name": "stdout",
     "output_type": "stream",
     "text": [
      "The F-statistic value is: 6.120284251227925\n",
      "The p-value is: 0.00397917607734061\n"
     ]
    }
   ],
   "source": [
    "F_value, p_value = ANOVA(non_smokers, light_smokers, moder_smokers, heavy_smokers)\n",
    "print('The F-statistic value is:',F_value)\n",
    "print('The p-value is:',p_value)"
   ]
  },
  {
   "cell_type": "code",
   "execution_count": 4,
   "metadata": {},
   "outputs": [
    {
     "data": {
      "text/plain": [
       "[<matplotlib.lines.Line2D at 0x25983ef9400>]"
      ]
     },
     "execution_count": 4,
     "metadata": {},
     "output_type": "execute_result"
    },
    {
     "data": {
      "image/png": "[encoded data removed]",
      "text/plain": [
       "<Figure size 432x288 with 1 Axes>"
      ]
     },
     "metadata": {
      "needs_background": "light"
     },
     "output_type": "display_data"
    }
   ],
   "source": [
    "# plot of the F-distribution with df from previous problem in red\n",
    "# value of the F-statistic from previous problem in blue\n",
    "fig, ax = plt.subplots(1, 1)\n",
    "dfn, dfd = 3, 20\n",
    "x = np.linspace(F.ppf(0.01, dfn, dfd),\n",
    "                    F.ppf(0.999, dfn, dfd), 100)\n",
    "ax.plot(x, F.pdf(x, dfn, dfd),\n",
    "                    'r-', lw=1, alpha=0.6, label='F pdf')\n",
    "\n",
    "ax.plot([F_value,F_value], [-0.01,0.02],\n",
    "                    'b-', lw=2, alpha=0.6)"
   ]
  },
  {
   "cell_type": "code",
   "execution_count": 5,
   "metadata": {},
   "outputs": [
    {
     "data": {
      "text/plain": [
       "0.003979176077340663"
      ]
     },
     "execution_count": 5,
     "metadata": {},
     "output_type": "execute_result"
    }
   ],
   "source": [
    "# p-value calculated from the F-distribution\n",
    "1-F.cdf(F_value, dfn, dfd)"
   ]
  },
  {
   "cell_type": "code",
   "execution_count": 6,
   "metadata": {},
   "outputs": [
    {
     "data": {
      "text/plain": [
       "(1.1111111111111112, 0.8162127084336458)"
      ]
     },
     "execution_count": 6,
     "metadata": {},
     "output_type": "execute_result"
    }
   ],
   "source": [
    "# mean (expected value) and median of the F-distribution\n",
    "F.mean(dfn, dfd), F.median(dfn, dfd)"
   ]
  },
  {
   "cell_type": "code",
   "execution_count": 7,
   "metadata": {},
   "outputs": [],
   "source": [
    "median=F.median(dfn, dfd)"
   ]
  },
  {
   "cell_type": "code",
   "execution_count": 10,
   "metadata": {},
   "outputs": [],
   "source": [
    "import pandas as pd\n",
    "import pingouin as pg"
   ]
  },
  {
   "cell_type": "code",
   "execution_count": 11,
   "metadata": {},
   "outputs": [],
   "source": [
    "rows = ['non_smokers', 'light_smokers', 'moder_smokers', 'heavy_smokers']\n",
    "df = pd.DataFrame([non_smokers, light_smokers, moder_smokers, heavy_smokers], index=rows)"
   ]
  },
  {
   "cell_type": "code",
   "execution_count": 12,
   "metadata": {},
   "outputs": [
    {
     "data": {
      "text/html": [
       "<div>\n",
       "<style scoped>\n",
       "    .dataframe tbody tr th:only-of-type {\n",
       "        vertical-align: middle;\n",
       "    }\n",
       "\n",
       "    .dataframe tbody tr th {\n",
       "        vertical-align: top;\n",
       "    }\n",
       "\n",
       "    .dataframe thead th {\n",
       "        text-align: right;\n",
       "    }\n",
       "</style>\n",
       "<table border=\"1\" class=\"dataframe\">\n",
       "  <thead>\n",
       "    <tr style=\"text-align: right;\">\n",
       "      <th></th>\n",
       "      <th>0</th>\n",
       "      <th>1</th>\n",
       "      <th>2</th>\n",
       "      <th>3</th>\n",
       "      <th>4</th>\n",
       "      <th>5</th>\n",
       "    </tr>\n",
       "  </thead>\n",
       "  <tbody>\n",
       "    <tr>\n",
       "      <th>non_smokers</th>\n",
       "      <td>69</td>\n",
       "      <td>52</td>\n",
       "      <td>71</td>\n",
       "      <td>58</td>\n",
       "      <td>59</td>\n",
       "      <td>65</td>\n",
       "    </tr>\n",
       "    <tr>\n",
       "      <th>light_smokers</th>\n",
       "      <td>55</td>\n",
       "      <td>60</td>\n",
       "      <td>78</td>\n",
       "      <td>58</td>\n",
       "      <td>62</td>\n",
       "      <td>66</td>\n",
       "    </tr>\n",
       "    <tr>\n",
       "      <th>moder_smokers</th>\n",
       "      <td>66</td>\n",
       "      <td>81</td>\n",
       "      <td>70</td>\n",
       "      <td>77</td>\n",
       "      <td>57</td>\n",
       "      <td>79</td>\n",
       "    </tr>\n",
       "    <tr>\n",
       "      <th>heavy_smokers</th>\n",
       "      <td>91</td>\n",
       "      <td>72</td>\n",
       "      <td>81</td>\n",
       "      <td>67</td>\n",
       "      <td>95</td>\n",
       "      <td>84</td>\n",
       "    </tr>\n",
       "  </tbody>\n",
       "</table>\n",
       "</div>"
      ],
      "text/plain": [
       "                0   1   2   3   4   5\n",
       "non_smokers    69  52  71  58  59  65\n",
       "light_smokers  55  60  78  58  62  66\n",
       "moder_smokers  66  81  70  77  57  79\n",
       "heavy_smokers  91  72  81  67  95  84"
      ]
     },
     "execution_count": 12,
     "metadata": {},
     "output_type": "execute_result"
    }
   ],
   "source": [
    "df"
   ]
  },
  {
   "cell_type": "code",
   "execution_count": 13,
   "metadata": {},
   "outputs": [
    {
     "data": {
      "text/html": [
       "<div>\n",
       "<style scoped>\n",
       "    .dataframe tbody tr th:only-of-type {\n",
       "        vertical-align: middle;\n",
       "    }\n",
       "\n",
       "    .dataframe tbody tr th {\n",
       "        vertical-align: top;\n",
       "    }\n",
       "\n",
       "    .dataframe thead th {\n",
       "        text-align: right;\n",
       "    }\n",
       "</style>\n",
       "<table border=\"1\" class=\"dataframe\">\n",
       "  <thead>\n",
       "    <tr style=\"text-align: right;\">\n",
       "      <th></th>\n",
       "      <th>group</th>\n",
       "      <th>heart rate</th>\n",
       "    </tr>\n",
       "  </thead>\n",
       "  <tbody>\n",
       "    <tr>\n",
       "      <th>0</th>\n",
       "      <td>non_smokers</td>\n",
       "      <td>69</td>\n",
       "    </tr>\n",
       "    <tr>\n",
       "      <th>1</th>\n",
       "      <td>non_smokers</td>\n",
       "      <td>52</td>\n",
       "    </tr>\n",
       "    <tr>\n",
       "      <th>2</th>\n",
       "      <td>non_smokers</td>\n",
       "      <td>71</td>\n",
       "    </tr>\n",
       "    <tr>\n",
       "      <th>3</th>\n",
       "      <td>non_smokers</td>\n",
       "      <td>58</td>\n",
       "    </tr>\n",
       "    <tr>\n",
       "      <th>4</th>\n",
       "      <td>non_smokers</td>\n",
       "      <td>59</td>\n",
       "    </tr>\n",
       "    <tr>\n",
       "      <th>5</th>\n",
       "      <td>non_smokers</td>\n",
       "      <td>65</td>\n",
       "    </tr>\n",
       "    <tr>\n",
       "      <th>6</th>\n",
       "      <td>light_smokers</td>\n",
       "      <td>55</td>\n",
       "    </tr>\n",
       "    <tr>\n",
       "      <th>7</th>\n",
       "      <td>light_smokers</td>\n",
       "      <td>60</td>\n",
       "    </tr>\n",
       "    <tr>\n",
       "      <th>8</th>\n",
       "      <td>light_smokers</td>\n",
       "      <td>78</td>\n",
       "    </tr>\n",
       "    <tr>\n",
       "      <th>9</th>\n",
       "      <td>light_smokers</td>\n",
       "      <td>58</td>\n",
       "    </tr>\n",
       "    <tr>\n",
       "      <th>10</th>\n",
       "      <td>light_smokers</td>\n",
       "      <td>62</td>\n",
       "    </tr>\n",
       "    <tr>\n",
       "      <th>11</th>\n",
       "      <td>light_smokers</td>\n",
       "      <td>66</td>\n",
       "    </tr>\n",
       "    <tr>\n",
       "      <th>12</th>\n",
       "      <td>moder_smokers</td>\n",
       "      <td>66</td>\n",
       "    </tr>\n",
       "    <tr>\n",
       "      <th>13</th>\n",
       "      <td>moder_smokers</td>\n",
       "      <td>81</td>\n",
       "    </tr>\n",
       "    <tr>\n",
       "      <th>14</th>\n",
       "      <td>moder_smokers</td>\n",
       "      <td>70</td>\n",
       "    </tr>\n",
       "    <tr>\n",
       "      <th>15</th>\n",
       "      <td>moder_smokers</td>\n",
       "      <td>77</td>\n",
       "    </tr>\n",
       "    <tr>\n",
       "      <th>16</th>\n",
       "      <td>moder_smokers</td>\n",
       "      <td>57</td>\n",
       "    </tr>\n",
       "    <tr>\n",
       "      <th>17</th>\n",
       "      <td>moder_smokers</td>\n",
       "      <td>79</td>\n",
       "    </tr>\n",
       "    <tr>\n",
       "      <th>18</th>\n",
       "      <td>heavy_smokers</td>\n",
       "      <td>91</td>\n",
       "    </tr>\n",
       "    <tr>\n",
       "      <th>19</th>\n",
       "      <td>heavy_smokers</td>\n",
       "      <td>72</td>\n",
       "    </tr>\n",
       "    <tr>\n",
       "      <th>20</th>\n",
       "      <td>heavy_smokers</td>\n",
       "      <td>81</td>\n",
       "    </tr>\n",
       "    <tr>\n",
       "      <th>21</th>\n",
       "      <td>heavy_smokers</td>\n",
       "      <td>67</td>\n",
       "    </tr>\n",
       "    <tr>\n",
       "      <th>22</th>\n",
       "      <td>heavy_smokers</td>\n",
       "      <td>95</td>\n",
       "    </tr>\n",
       "    <tr>\n",
       "      <th>23</th>\n",
       "      <td>heavy_smokers</td>\n",
       "      <td>84</td>\n",
       "    </tr>\n",
       "  </tbody>\n",
       "</table>\n",
       "</div>"
      ],
      "text/plain": [
       "            group  heart rate\n",
       "0     non_smokers          69\n",
       "1     non_smokers          52\n",
       "2     non_smokers          71\n",
       "3     non_smokers          58\n",
       "4     non_smokers          59\n",
       "5     non_smokers          65\n",
       "6   light_smokers          55\n",
       "7   light_smokers          60\n",
       "8   light_smokers          78\n",
       "9   light_smokers          58\n",
       "10  light_smokers          62\n",
       "11  light_smokers          66\n",
       "12  moder_smokers          66\n",
       "13  moder_smokers          81\n",
       "14  moder_smokers          70\n",
       "15  moder_smokers          77\n",
       "16  moder_smokers          57\n",
       "17  moder_smokers          79\n",
       "18  heavy_smokers          91\n",
       "19  heavy_smokers          72\n",
       "20  heavy_smokers          81\n",
       "21  heavy_smokers          67\n",
       "22  heavy_smokers          95\n",
       "23  heavy_smokers          84"
      ]
     },
     "execution_count": 13,
     "metadata": {},
     "output_type": "execute_result"
    }
   ],
   "source": [
    "data= non_smokers+ light_smokers+ moder_smokers+ heavy_smokers\n",
    "groups=['non_smokers']*len(non_smokers)+ ['light_smokers']*len(light_smokers) + ['moder_smokers']*len(moder_smokers)+ ['heavy_smokers']*len(heavy_smokers)\n",
    "\n",
    "df=pd.DataFrame(list(zip(groups,data)),columns=['group', 'heart rate'])\n",
    "df                "
   ]
  },
  {
   "cell_type": "code",
   "execution_count": 14,
   "metadata": {},
   "outputs": [
    {
     "data": {
      "text/html": [
       "<div>\n",
       "<style scoped>\n",
       "    .dataframe tbody tr th:only-of-type {\n",
       "        vertical-align: middle;\n",
       "    }\n",
       "\n",
       "    .dataframe tbody tr th {\n",
       "        vertical-align: top;\n",
       "    }\n",
       "\n",
       "    .dataframe thead th {\n",
       "        text-align: right;\n",
       "    }\n",
       "</style>\n",
       "<table border=\"1\" class=\"dataframe\">\n",
       "  <thead>\n",
       "    <tr style=\"text-align: right;\">\n",
       "      <th></th>\n",
       "      <th>Source</th>\n",
       "      <th>SS</th>\n",
       "      <th>DF</th>\n",
       "      <th>MS</th>\n",
       "      <th>F</th>\n",
       "      <th>p-unc</th>\n",
       "      <th>np2</th>\n",
       "    </tr>\n",
       "  </thead>\n",
       "  <tbody>\n",
       "    <tr>\n",
       "      <th>0</th>\n",
       "      <td>group</td>\n",
       "      <td>1464.125</td>\n",
       "      <td>3</td>\n",
       "      <td>488.042</td>\n",
       "      <td>6.12</td>\n",
       "      <td>0.00397918</td>\n",
       "      <td>0.479</td>\n",
       "    </tr>\n",
       "    <tr>\n",
       "      <th>1</th>\n",
       "      <td>Within</td>\n",
       "      <td>1594.833</td>\n",
       "      <td>20</td>\n",
       "      <td>79.742</td>\n",
       "      <td>-</td>\n",
       "      <td>-</td>\n",
       "      <td>-</td>\n",
       "    </tr>\n",
       "  </tbody>\n",
       "</table>\n",
       "</div>"
      ],
      "text/plain": [
       "   Source        SS  DF       MS     F       p-unc    np2\n",
       "0   group  1464.125   3  488.042  6.12  0.00397918  0.479\n",
       "1  Within  1594.833  20   79.742     -           -      -"
      ]
     },
     "execution_count": 14,
     "metadata": {},
     "output_type": "execute_result"
    }
   ],
   "source": [
    "aov = df.anova(dv='heart rate', between='group', detailed=True)\n",
    "aov"
   ]
  },
  {
   "cell_type": "code",
   "execution_count": null,
   "metadata": {},
   "outputs": [],
   "source": []
  }
 ],
 "metadata": {
  "kernelspec": {
   "display_name": "Python 3",
   "language": "python",
   "name": "python3"
  },
  "language_info": {
   "codemirror_mode": {
    "name": "ipython",
    "version": 3
   },
   "file_extension": ".py",
   "mimetype": "text/x-python",
   "name": "python",
   "nbconvert_exporter": "python",
   "pygments_lexer": "ipython3",
   "version": "3.7.3"
  }
 },
 "nbformat": 4,
 "nbformat_minor": 4
}
